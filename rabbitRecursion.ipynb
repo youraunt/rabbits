{
 "cells": [
  {
   "cell_type": "code",
   "execution_count": null,
   "metadata": {
    "collapsed": true
   },
   "outputs": [],
   "source": [
    "# define rabbitRecursion\n",
    "def rabbitRecursion(n, k):\n",
    "    if n < 2:  # base case\n",
    "        return n\n",
    "    else:  # recursive call\n",
    "        return rabbitRecursion((n - 1), k) + rabbitRecursion((n - 2), k) * k\n",
    "\n",
    "\n",
    "# define main\n",
    "def main():\n",
    "    f = open('input.txt')  # file stream\n",
    "    readInArray = f.readlines()  # read in data\n",
    "    rabbits = readInArray[0].split()  # separate data into unique items\n",
    "    n = int(rabbits[0])  # months\n",
    "    k = int(rabbits[1])  # generations\n",
    "    print(rabbitRecursion(n, k))  # display recursive function\n",
    "\n",
    "\n",
    "# enter program here\n",
    "if __name__ == \"__main__\":\n",
    "    main()\n",
    "\n"
   ]
  }
 ],
 "metadata": {
  "kernelspec": {
   "display_name": "Python 3",
   "language": "python",
   "name": "python3"
  },
  "language_info": {
   "codemirror_mode": {
    "name": "ipython",
    "version": 2
   },
   "file_extension": ".py",
   "mimetype": "text/x-python",
   "name": "python",
   "nbconvert_exporter": "python",
   "pygments_lexer": "ipython2",
   "version": "2.7.6"
  },
  "pycharm": {
   "stem_cell": {
    "cell_type": "raw",
    "source": [],
    "metadata": {
     "collapsed": false
    }
   }
  }
 },
 "nbformat": 4,
 "nbformat_minor": 0
}
